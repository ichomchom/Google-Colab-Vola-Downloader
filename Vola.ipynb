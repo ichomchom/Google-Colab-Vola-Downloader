{
  "nbformat": 4,
  "nbformat_minor": 0,
  "metadata": {
    "colab": {
      "name": "Vola.ipynb",
      "provenance": []
    },
    "kernelspec": {
      "name": "python3",
      "display_name": "Python 3"
    }
  },
  "cells": [
    {
      "cell_type": "code",
      "metadata": {
        "id": "Lwb5FnZir3eW",
        "colab_type": "code",
        "colab": {}
      },
      "source": [
        "# Mount Google Drive\n",
        "from google.colab import drive\n",
        "drive.mount('/gdrive')"
      ],
      "execution_count": null,
      "outputs": []
    },
    {
      "cell_type": "code",
      "metadata": {
        "id": "PIDMtV3Pr7Lo",
        "colab_type": "code",
        "colab": {}
      },
      "source": [
        "!pip install praw\n",
        "!pip install youtube_dl\n",
        "!pip install python-engineio\n",
        "!pip install --upgrade git+https://github.com/volafiled/python-volapi.git\n",
        "!pip install wget\n",
        "!pip install mega.py"
      ],
      "execution_count": null,
      "outputs": []
    },
    {
      "cell_type": "code",
      "metadata": {
        "id": "6hDnHFWZrzcY",
        "colab_type": "code",
        "colab": {}
      },
      "source": [
        "# Vola download\n",
        "from volapi import Room\n",
        "import zipfile\n",
        "import os\n",
        "import youtube_dl\n",
        "import requests\n",
        "import wget\n",
        "\n",
        "dir  = '/gdrive/My Drive/.../'\n",
        "\n",
        "ydl_opts = {\n",
        "        'outtmpl': dir + '%(extractor)s-%(id)s-%(title)s.%(ext)s',\n",
        "        'format': 'bestaudio/best'\n",
        "    }\n",
        "\n",
        "with Room(\"room_id\", \"ScrappyBoy\") as BEEPi:\n",
        "    BEEPi.listen(once=True)\n",
        "    for f in BEEPi.files:\n",
        "        url = f.url.lower()\n",
        "        if 'mp4' in url or 'webm' in url or 'mov' in url or 'avi' in url or 'wmv' in url:\n",
        "          with youtube_dl.YoutubeDL(ydl_opts) as ydl:\n",
        "            try:          \n",
        "              ydl.download([f.url])\n",
        "            except youtube_dl.utils.DownloadError as e:\n",
        "              print(e)\n",
        "        elif 'zip' in url and not os.path.exists(dir + url.split('/')[-1]):\n",
        "          filename = url.split('/')[-1]\n",
        "          r = requests.get(f.url)\n",
        "          with open(dir + filename, \"wb\") as file:  \n",
        "            #file.write(r.content)\n",
        "            wget.download(f.url, dir)\n",
        "            print('[LOG] Done Getting ' + f.url)\n",
        "            os.system('!unzip ' + dir + filename)\n",
        "            print('[LOG] Done Extracting ' + f.url) \n",
        "            #with zipfile.ZipFile(dir + filename + '/', 'r') as zip_ref:\n",
        "              #zip_ref.extractall(dir)\n",
        "              #print('[LOG] Done Extracting ' + f.url) \n",
        "        elif not os.path.exists(dir + url.split('/')[-1]):\n",
        "          r = requests.get(f.url)\n",
        "          with open(dir + url.split('/')[-1], \"wb\") as file:  \n",
        "            file.write(r.content) \n",
        "            print('[LOG] Done Getting ' + f.url)\n",
        "    print('[LOG] Done')\n",
        "       "
      ],
      "execution_count": null,
      "outputs": []
    }
  ]
}
